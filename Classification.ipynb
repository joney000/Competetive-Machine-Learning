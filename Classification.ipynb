{
 "cells": [
  {
   "cell_type": "code",
   "execution_count": null,
   "metadata": {},
   "outputs": [],
   "source": []
  },
  {
   "cell_type": "code",
   "execution_count": 3,
   "metadata": {},
   "outputs": [],
   "source": [
    "import sys"
   ]
  },
  {
   "cell_type": "code",
   "execution_count": null,
   "metadata": {},
   "outputs": [
    {
     "name": "stdout",
     "output_type": "stream",
     "text": [
      "Solving environment: done\n",
      "\n",
      "## Package Plan ##\n",
      "\n",
      "  environment location: /Users/itsafjal/anaconda2\n",
      "\n",
      "  added / updated specs: \n",
      "    - numpy\n",
      "\n",
      "\n",
      "The following packages will be downloaded:\n",
      "\n",
      "    package                    |            build\n",
      "    ---------------------------|-----------------\n",
      "    curl-7.62.0                |       ha441bb4_0         135 KB\n",
      "    openssl-1.1.1a             |       h1de35cc_0         4.6 MB\n",
      "    numpy-1.15.4               |   py27h6a91979_0          35 KB\n",
      "    certifi-2018.10.15         |           py27_0         138 KB\n",
      "    numpy-base-1.15.4          |   py27h8a80b8c_0         4.0 MB\n",
      "    python-2.7.3               |                5        10.0 MB\n",
      "    libcurl-7.62.0             |       h051b688_0         488 KB\n",
      "    mkl_random-1.0.1           |   py27h5d10147_1         354 KB\n",
      "    mkl_fft-1.0.6              |   py27hb8a8100_0         140 KB\n",
      "    conda-4.5.11               |           py27_0         1.0 MB\n",
      "    readline-6.2               |                2         274 KB\n",
      "    libssh2-1.8.0              |       ha12b0ac_4         218 KB\n",
      "    blas-1.0                   |              mkl           5 KB\n",
      "    pycurl-7.19.0              |           py27_1         189 KB\n",
      "    mkl-2018.0.3               |                1       149.2 MB\n",
      "    cryptography-2.4.1         |   py27ha12b0ac_0         565 KB\n",
      "    ------------------------------------------------------------\n",
      "                                           Total:       171.4 MB\n",
      "\n",
      "The following NEW packages will be INSTALLED:\n",
      "\n",
      "    blas:         1.0-mkl                \n",
      "    mkl_fft:      1.0.6-py27hb8a8100_0   \n",
      "    mkl_random:   1.0.1-py27h5d10147_1   \n",
      "\n",
      "The following packages will be UPDATED:\n",
      "\n",
      "    certifi:      2018.4.16-py27_0        --> 2018.10.15-py27_0    \n",
      "    conda:        4.5.4-py27_0            --> 4.5.11-py27_0        \n",
      "    cryptography: 2.2.2-py27h1de35cc_0    --> 2.4.1-py27ha12b0ac_0 \n",
      "    curl:         7.60.0-ha441bb4_0       --> 7.62.0-ha441bb4_0    \n",
      "    libcurl:      7.60.0-hf30b1f0_0       --> 7.62.0-h051b688_0    \n",
      "    libssh2:      1.8.0-h322a93b_4        --> 1.8.0-ha12b0ac_4     \n",
      "    mkl:          2018.0.2-1              --> 2018.0.3-1           \n",
      "    numpy:        1.14.3-py27he6379a5_1   --> 1.15.4-py27h6a91979_0\n",
      "    numpy-base:   1.14.3-py27h7ef55bc_1   --> 1.15.4-py27h8a80b8c_0\n",
      "    openssl:      1.0.2o-h26aff7b_0       --> 1.1.1a-h1de35cc_0    \n",
      "\n",
      "The following packages will be DOWNGRADED:\n",
      "\n",
      "    pycurl:       7.43.0.1-py27hdbc3d79_0 --> 7.19.0-py27_1        \n",
      "    python:       2.7.15-h138c1fe_0       --> 2.7.3-5              \n",
      "    readline:     7.0-hc1231fa_4          --> 6.2-2                \n",
      "\n",
      "\n",
      "Downloading and Extracting Packages\n",
      "curl-7.62.0          |  135 KB | ####################################### | 100% \n",
      "openssl-1.1.1a       |  4.6 MB | #####################################   |  95% "
     ]
    }
   ],
   "source": [
    "!conda install --yes --prefix {sys.prefix} numpy"
   ]
  },
  {
   "cell_type": "code",
   "execution_count": 4,
   "metadata": {},
   "outputs": [],
   "source": [
    "import numpy as np"
   ]
  },
  {
   "cell_type": "code",
   "execution_count": null,
   "metadata": {},
   "outputs": [],
   "source": []
  }
 ],
 "metadata": {
  "kernelspec": {
   "display_name": "Python 2",
   "language": "python",
   "name": "python2"
  },
  "language_info": {
   "codemirror_mode": {
    "name": "ipython",
    "version": 2
   },
   "file_extension": ".py",
   "mimetype": "text/x-python",
   "name": "python",
   "nbconvert_exporter": "python",
   "pygments_lexer": "ipython2",
   "version": "2.7.15"
  }
 },
 "nbformat": 4,
 "nbformat_minor": 2
}
